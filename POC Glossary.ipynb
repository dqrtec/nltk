{
 "cells": [
  {
   "cell_type": "code",
   "execution_count": 1,
   "metadata": {},
   "outputs": [],
   "source": [
    "import nltk as nltk\n",
    "from nltk.corpus import stopwords\n",
    "\n",
    "# nltk.download('wordnet')\n",
    "\n",
    "import ast"
   ]
  },
  {
   "cell_type": "code",
   "execution_count": 2,
   "metadata": {},
   "outputs": [],
   "source": [
    "stopwords_pt = stopwords.words('portuguese')\n",
    "\n",
    "#https://github.com/6/stopwords-json\n",
    "stop_words = [\"a\",\"acerca\",\"adeus\",\"agora\",\"ainda\",\"algmas\",\"algo\",\"algumas\",\"alguns\",\"ali\",\"além\",\"ambos\",\"ano\",\"anos\",\"antes\",\"ao\",\"aos\",\"apenas\",\"apoio\",\"apontar\",\"após\",\"aquela\",\"aquelas\",\"aquele\",\"aqueles\",\"aqui\",\"aquilo\",\"as\",\"assim\",\"através\",\"atrás\",\"até\",\"aí\",\"baixo\",\"bastante\",\"bem\",\"bom\",\"breve\",\"cada\",\"caminho\",\"catorze\",\"cedo\",\"cento\",\"certamente\",\"certeza\",\"cima\",\"cinco\",\"coisa\",\"com\",\"como\",\"comprido\",\"conhecido\",\"conselho\",\"contra\",\"corrente\",\"custa\",\"cá\",\"da\",\"daquela\",\"daquele\",\"dar\",\"das\",\"de\",\"debaixo\",\"demais\",\"dentro\",\"depois\",\"desde\",\"desligado\",\"dessa\",\"desse\",\"desta\",\"deste\",\"deve\",\"devem\",\"deverá\",\"dez\",\"dezanove\",\"dezasseis\",\"dezassete\",\"dezoito\",\"dia\",\"diante\",\"direita\",\"diz\",\"dizem\",\"dizer\",\"do\",\"dois\",\"dos\",\"doze\",\"duas\",\"dá\",\"dão\",\"dúvida\",\"e\",\"ela\",\"elas\",\"ele\",\"eles\",\"em\",\"embora\",\"enquanto\",\"entre\",\"então\",\"era\",\"essa\",\"essas\",\"esse\",\"esses\",\"esta\",\"estado\",\"estar\",\"estará\",\"estas\",\"estava\",\"este\",\"estes\",\"esteve\",\"estive\",\"estivemos\",\"estiveram\",\"estiveste\",\"estivestes\",\"estou\",\"está\",\"estás\",\"estão\",\"eu\",\"exemplo\",\"falta\",\"fará\",\"favor\",\"faz\",\"fazeis\",\"fazem\",\"fazemos\",\"fazer\",\"fazes\",\"fazia\",\"faço\",\"fez\",\"fim\",\"final\",\"foi\",\"fomos\",\"for\",\"fora\",\"foram\",\"forma\",\"foste\",\"fostes\",\"fui\",\"geral\",\"grande\",\"grandes\",\"grupo\",\"hoje\",\"horas\",\"há\",\"iniciar\",\"inicio\",\"ir\",\"irá\",\"isso\",\"ista\",\"iste\",\"isto\",\"já\",\"lado\",\"ligado\",\"local\",\"logo\",\"longe\",\"lugar\",\"lá\",\"maior\",\"maioria\",\"maiorias\",\"mais\",\"mal\",\"mas\",\"me\",\"meio\",\"menor\",\"menos\",\"meses\",\"mesmo\",\"meu\",\"meus\",\"mil\",\"minha\",\"minhas\",\"momento\",\"muito\",\"muitos\",\"máximo\",\"mês\",\"na\",\"nada\",\"naquela\",\"naquele\",\"nas\",\"nem\",\"nenhuma\",\"nessa\",\"nesse\",\"nesta\",\"neste\",\"no\",\"noite\",\"nome\",\"nos\",\"nossa\",\"nossas\",\"nosso\",\"nossos\",\"nova\",\"nove\",\"novo\",\"novos\",\"num\",\"numa\",\"nunca\",\"não\",\"nível\",\"nós\",\"número\",\"o\",\"obra\",\"obrigada\",\"obrigado\",\"oitava\",\"oitavo\",\"oito\",\"onde\",\"ontem\",\"onze\",\"os\",\"ou\",\"outra\",\"outras\",\"outro\",\"outros\",\"para\",\"parece\",\"parte\",\"partir\",\"pegar\",\"pela\",\"pelas\",\"pelo\",\"pelos\",\"perto\",\"pessoas\",\"pode\",\"podem\",\"poder\",\"poderá\",\"podia\",\"ponto\",\"pontos\",\"por\",\"porque\",\"porquê\",\"posição\",\"possivelmente\",\"posso\",\"possível\",\"pouca\",\"pouco\",\"povo\",\"primeira\",\"primeiro\",\"promeiro\",\"próprio\",\"próximo\",\"puderam\",\"pôde\",\"põe\",\"põem\",\"qual\",\"qualquer\",\"quando\",\"quanto\",\"quarta\",\"quarto\",\"quatro\",\"que\",\"quem\",\"quer\",\"quero\",\"questão\",\"quieto\",\"quinta\",\"quinto\",\"quinze\",\"quê\",\"relação\",\"sabe\",\"saber\",\"se\",\"segunda\",\"segundo\",\"sei\",\"seis\",\"sem\",\"sempre\",\"ser\",\"seria\",\"sete\",\"seu\",\"seus\",\"sexta\",\"sexto\",\"sim\",\"sistema\",\"sob\",\"sobre\",\"sois\",\"somente\",\"somos\",\"sou\",\"sua\",\"suas\",\"são\",\"sétima\",\"sétimo\",\"tal\",\"talvez\",\"também\",\"tanto\",\"tarde\",\"te\",\"tem\",\"temos\",\"tempo\",\"tendes\",\"tenho\",\"tens\",\"tentar\",\"tentaram\",\"tente\",\"tentei\",\"ter\",\"terceira\",\"terceiro\",\"teu\",\"teus\",\"teve\",\"tipo\",\"tive\",\"tivemos\",\"tiveram\",\"tiveste\",\"tivestes\",\"toda\",\"todas\",\"todo\",\"todos\",\"trabalhar\",\"trabalho\",\"treze\",\"três\",\"tu\",\"tua\",\"tuas\",\"tudo\",\"tão\",\"têm\",\"um\",\"uma\",\"umas\",\"uns\",\"usa\",\"usar\",\"vai\",\"vais\",\"valor\",\"veja\",\"vem\",\"vens\",\"ver\",\"verdade\",\"verdadeiro\",\"vez\",\"vezes\",\"viagem\",\"vindo\",\"vinte\",\"você\",\"vocês\",\"vos\",\"vossa\",\"vossas\",\"vosso\",\"vossos\",\"vários\",\"vão\",\"vêm\",\"vós\",\"zero\",\"à\",\"às\",\"área\",\"é\",\"és\",\"último\"]\n",
    "\n",
    "stopwords_pt = set(stopwords_pt)\n",
    "stop_words = set(stop_words)\n",
    "\n",
    "stopword_list = set.union(stop_words,stop_words)"
   ]
  },
  {
   "cell_type": "code",
   "execution_count": 3,
   "metadata": {},
   "outputs": [],
   "source": [
    "def glossario():\n",
    "    dados = open(\"saida.txt\")\n",
    "    dados = ast.literal_eval( dados.read() )\n",
    "    \n",
    "    return dados\n",
    "\n",
    "def termos_glossario():\n",
    "    return [i[\"termo\"] for i in glossario()]\n",
    "\n",
    "def explicacao_palavra(palavra):\n",
    "    for i in glossario():\n",
    "        if palavra == i[\"termo\"]:\n",
    "            return termo[\"explicacao\"]\n",
    "\n",
    "def existe_termo(palavra):\n",
    "    for termo in glossario():\n",
    "        if termo[\"termo\"].lower() == palavra.lower():\n",
    "            print( termo[\"explicacao\"] )\n",
    "            return True\n",
    "    return False"
   ]
  },
  {
   "cell_type": "code",
   "execution_count": 4,
   "metadata": {},
   "outputs": [],
   "source": [
    "def existe_dicionario(p):\n",
    "    \n",
    "    i = open(\"palavras.txt\")\n",
    "    \n",
    "    p = p.lower()\n",
    "    \n",
    "    inicio = p[0]\n",
    "    _break = False\n",
    "    \n",
    "    maximo = 320139\n",
    "    for d in range(maximo):\n",
    "        try:\n",
    "            l = i.readline()\n",
    "            palavra = l.lower()\n",
    "            palavra.replace(\" \",\"\")\n",
    "            palavra = palavra[:-1]\n",
    "\n",
    "            if palavra == p:\n",
    "                return True\n",
    "            if palavra[0] == inicio:\n",
    "                _break = True\n",
    "            if palavra[0] != inicio and _break:\n",
    "                return False\n",
    "        except:\n",
    "            pass\n",
    "    return False"
   ]
  },
  {
   "cell_type": "code",
   "execution_count": 5,
   "metadata": {},
   "outputs": [],
   "source": [
    "frase = \"\"\"Art. 3º Os impostos de competência do Estado são os seguintes:\n",
    "I - imposto sobre operações relativas à circulação de mercadorias e sobre\n",
    "prestações de serviços de transporte interestadual e intermunicipal e de comunicação\n",
    "(ICMS);\n",
    "II - imposto sobre a propriedade de veículos automotores (IPVA);\n",
    "III - imposto sobre a transmissão “causa mortis” e doação de quaisquer bens\n",
    "ou direitos (ITCD). \"\"\"\n",
    "\n",
    "frase = frase.split(\";\")[0]\n",
    "\n",
    "frase = \"\"\"Art. 3º Os impostos de competência do Estado são os seguintes: I - imposto sobre operações relativas à circulação de mercadorias e sobre prestações de serviços de transporte interestadual e intermunicipal e de comunicação (ICMS); II - imposto sobre a propriedade de veículos automotores (IPVA); III - imposto sobre a transmissão “causa mortis” e doação de quaisquer bens ou direitos (ITCD). \"\"\""
   ]
  },
  {
   "cell_type": "code",
   "execution_count": 6,
   "metadata": {},
   "outputs": [],
   "source": [
    "from string import punctuation\n",
    "\n",
    "frase_sem_stopwords = [ i for i in nltk.word_tokenize(frase) if i not in stopword_list]\n",
    "frase_sem_stopwords = [ i for i in frase_sem_stopwords if i not in punctuation]\n",
    "\n",
    "possiveis = [ (existe_dicionario(i),i) for i in frase_sem_stopwords]"
   ]
  },
  {
   "cell_type": "code",
   "execution_count": 7,
   "metadata": {},
   "outputs": [
    {
     "name": "stdout",
     "output_type": "stream",
     "text": [
      "['Art', '3º', 'Os', 'impostos', 'competência', 'Estado', 'seguintes', 'I', 'imposto', 'operações', 'relativas', 'circulação', 'mercadorias', 'prestações', 'serviços', 'transporte', 'interestadual', 'intermunicipal', 'comunicação', 'ICMS', 'II', 'imposto', 'propriedade', 'veículos', 'automotores', 'IPVA', 'III', 'imposto', 'transmissão', '“', 'causa', 'mortis', '”', 'doação', 'quaisquer', 'bens', 'direitos', 'ITCD']\n",
      "38\n"
     ]
    }
   ],
   "source": [
    "print(frase_sem_stopwords)\n",
    "print(len(frase_sem_stopwords))"
   ]
  },
  {
   "cell_type": "code",
   "execution_count": 8,
   "metadata": {},
   "outputs": [
    {
     "name": "stdout",
     "output_type": "stream",
     "text": [
      "IMPOSTO – Segundo o Código Tributário Nacional, \"imposto é o tributo cuja obrigação tem por fato gerador uma situação independente de qualquer atividade estatal específica, relativa ao contribuinte\". Em outras palavras, é um tributo pago, compulsoriamente, pelas pessoas físicas e jurídicas para atender parte das necessidades de Receita Tributária do Poder Público (federal, estadual ou municipal), de modo a assegurar o funcionamento de sua burocracia, o atendimento social à população e os investimentos em obras essenciais. \n",
      "\n",
      "ICMS – Imposto sobre Operações Relativas à Circulação de Mercadorias e sobre Prestação de Serviços de Transporte Interestadual e Intermunicipal e de Comunicação, também chamado de Imposto sobre Circulação de Mercadorias e Serviços. É um imposto estadual não-cumulativo. É a grande fonte de receita do Distrito Federal e dos Estados.\n",
      "\n",
      "IMPOSTO – Segundo o Código Tributário Nacional, \"imposto é o tributo cuja obrigação tem por fato gerador uma situação independente de qualquer atividade estatal específica, relativa ao contribuinte\". Em outras palavras, é um tributo pago, compulsoriamente, pelas pessoas físicas e jurídicas para atender parte das necessidades de Receita Tributária do Poder Público (federal, estadual ou municipal), de modo a assegurar o funcionamento de sua burocracia, o atendimento social à população e os investimentos em obras essenciais. \n",
      "\n",
      "IRPF – Imposto de Renda das Pessoas Físicas. É um tributo federal. Pagam-no as pessoas físicas sobre sua renda, sobre ganhos de capital (como o lucro imobiliário) e sobre o rendimento de aplicações financeiras. \n",
      "\n",
      "IMPOSTO – Segundo o Código Tributário Nacional, \"imposto é o tributo cuja obrigação tem por fato gerador uma situação independente de qualquer atividade estatal específica, relativa ao contribuinte\". Em outras palavras, é um tributo pago, compulsoriamente, pelas pessoas físicas e jurídicas para atender parte das necessidades de Receita Tributária do Poder Público (federal, estadual ou municipal), de modo a assegurar o funcionamento de sua burocracia, o atendimento social à população e os investimentos em obras essenciais. \n",
      "\n"
     ]
    }
   ],
   "source": [
    "for i in possiveis:\n",
    "    if existe_termo(i[1]):\n",
    "        print() "
   ]
  }
 ],
 "metadata": {
  "kernelspec": {
   "display_name": "Python 3",
   "language": "python",
   "name": "python3"
  },
  "language_info": {
   "codemirror_mode": {
    "name": "ipython",
    "version": 3
   },
   "file_extension": ".py",
   "mimetype": "text/x-python",
   "name": "python",
   "nbconvert_exporter": "python",
   "pygments_lexer": "ipython3",
   "version": "3.7.7"
  }
 },
 "nbformat": 4,
 "nbformat_minor": 4
}
